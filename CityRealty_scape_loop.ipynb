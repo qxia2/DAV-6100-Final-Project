{
 "cells": [
  {
   "cell_type": "code",
   "execution_count": 1,
   "metadata": {},
   "outputs": [
    {
     "name": "stderr",
     "output_type": "stream",
     "text": [
      "100%|████████████████████████████████████| 6793/6793 [8:35:50<00:00,  5.50s/it]\n"
     ]
    }
   ],
   "source": [
    "import time\n",
    "from urllib.request import urlopen, Request\n",
    "import urllib3\n",
    "import requests\n",
    "from bs4 import BeautifulSoup\n",
    "import pandas as pd\n",
    "from pandas.io.json import json_normalize\n",
    "import time\n",
    "import requests\n",
    "import csv\n",
    "import json\n",
    "from tqdm import tqdm\n",
    "\n",
    "\n",
    "i = 0\n",
    "for i in tqdm(range(6793)):\n",
    "    if i>=0:\n",
    "        i +=1\n",
    "        urlpage='https://www.cityrealty.com/rpc/search/get-closed-listings?save=false&amp&reset=true&page='+str(i)\n",
    "        referer=urlpage\n",
    "        headers={'User-Agent': 'Mozilla/5.0 (Windows NT6.1) AppleWebKit/537.36 (KHTML, like Gecko) Chrome/41.0.2228.0 Safari/537.3'}\n",
    "    try:\n",
    "        req = Request(url=urlpage, headers=headers)\n",
    "        response = urlopen(req)\n",
    "        html = response.read()\n",
    "        string = html.decode('utf-8')\n",
    "        data = json.loads(string)\n",
    "        json_normalize(data, 'items').to_csv('ct_csv',mode='a',index=False,header=False)\n",
    "    except error.HTTPError as e:\n",
    "      break   "
   ]
  },
  {
   "cell_type": "code",
   "execution_count": null,
   "metadata": {},
   "outputs": [],
   "source": [
    "df_csv = pd.read_csv('ct_csv')\n",
    "df_csv.head()"
   ]
  },
  {
   "cell_type": "code",
   "execution_count": 17,
   "metadata": {},
   "outputs": [],
   "source": [
    "import os\n",
    "path_d = 'C:\\\\'\n",
    "df_csv.to_csv(os.path.join(path_d, 'cr.csv'),index=False, Header)"
   ]
  }
 ],
 "metadata": {
  "kernelspec": {
   "display_name": "Python 3",
   "language": "python",
   "name": "python3"
  },
  "language_info": {
   "codemirror_mode": {
    "name": "ipython",
    "version": 3
   },
   "file_extension": ".py",
   "mimetype": "text/x-python",
   "name": "python",
   "nbconvert_exporter": "python",
   "pygments_lexer": "ipython3",
   "version": "3.7.1"
  }
 },
 "nbformat": 4,
 "nbformat_minor": 2
}
